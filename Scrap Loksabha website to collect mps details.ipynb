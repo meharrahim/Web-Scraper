{
 "cells": [
  {
   "cell_type": "code",
   "execution_count": 168,
   "metadata": {},
   "outputs": [],
   "source": [
    "from selenium import webdriver \n",
    "from selenium.webdriver.common.by import By \n",
    "from selenium.webdriver.support.ui import WebDriverWait \n",
    "from selenium.webdriver.support import expected_conditions as EC \n",
    "from selenium.common.exceptions import TimeoutException"
   ]
  },
  {
   "cell_type": "code",
   "execution_count": 169,
   "metadata": {},
   "outputs": [],
   "source": [
    "option = webdriver.ChromeOptions()\n",
    "option.add_argument(\"— incognito\")\n"
   ]
  },
  {
   "cell_type": "code",
   "execution_count": 171,
   "metadata": {},
   "outputs": [
    {
     "name": "stderr",
     "output_type": "stream",
     "text": [
      "/home/mehar/web-scraper/lib/python3.6/site-packages/ipykernel_launcher.py:1: DeprecationWarning: use options instead of chrome_options\n",
      "  \"\"\"Entry point for launching an IPython kernel.\n"
     ]
    }
   ],
   "source": [
    "browser = webdriver.Chrome(executable_path='/home/mehar/Web-Scraper/chromedriver', chrome_options=option)"
   ]
  },
  {
   "cell_type": "code",
   "execution_count": 147,
   "metadata": {},
   "outputs": [],
   "source": [
    "browser.get(\"http://164.100.47.194/Loksabha/Members/AlphabeticalList.aspx\")"
   ]
  },
  {
   "cell_type": "code",
   "execution_count": null,
   "metadata": {},
   "outputs": [],
   "source": [
    "# to find total number of mps\n",
    "total_record = browser.find_element_by_xpath('//*[@id=\"ContentPlaceHolder1_pnlDiv\"]/table[1]/tbody/tr/td[1]/span')\n",
    "total_record = int(total_record.text.split(': ')[1])\n",
    "print(total_record)"
   ]
  },
  {
   "cell_type": "code",
   "execution_count": 159,
   "metadata": {},
   "outputs": [
    {
     "name": "stdout",
     "output_type": "stream",
     "text": [
      "[]\n"
     ]
    }
   ],
   "source": [
    "# list to store the records\n",
    "data = []"
   ]
  },
  {
   "cell_type": "code",
   "execution_count": 161,
   "metadata": {},
   "outputs": [],
   "source": [
    "# iterate each row and go to the next page and collect necessary datas\n",
    "for i in range(total_record):\n",
    "    browser.get(\"http://164.100.47.194/Loksabha/Members/AlphabeticalList.aspx\")\n",
    "    python_button = browser.find_element_by_xpath(\"//*[@id='divPrint']/table/tbody/tr[\"+str(1+i)+\"]/td[2]/a[2]\") #FHSU\n",
    "    python_button.click() #click fhsu link\n",
    "    name = browser.find_element_by_xpath(\"//*[@id='ContentPlaceHolder1_Datagrid1']/tbody/tr/td/table[1]/tbody/tr/td\")\n",
    "    constituency = browser.find_element_by_xpath('//*[@id=\"ContentPlaceHolder1_Datagrid1\"]/tbody/tr/td/table[2]/tbody/tr[1]/td[2]')\n",
    "    party =name = browser.find_element_by_xpath(\"//*[@id='ContentPlaceHolder1_Datagrid1']/tbody/tr/td/table[1]/tbody/tr/td\")\n",
    "    address = browser.find_element_by_xpath('//*[@id=\"ContentPlaceHolder1_DataGrid2\"]/tbody/tr/td/table/tbody/tr[13]/td[2]/table[1]/tbody')\n",
    "    edu = browser.find_element_by_xpath('//*[@id=\"ContentPlaceHolder1_DataGrid2\"]/tbody/tr/td/table/tbody/tr[11]/td[2]')\n",
    "    data.append([name.text,constituency.text,party.text,address.text,edu.text])\n",
    "    \n"
   ]
  },
  {
   "cell_type": "code",
   "execution_count": 167,
   "metadata": {},
   "outputs": [],
   "source": [
    "# write the datas\n",
    "df = pd.DataFrame(data, columns = [\"name\" , \"constituency\" , \"party\" , \"address\" , \"educational qualification\"])\n",
    "df.to_csv('mfile_%s.csv' % i)"
   ]
  }
 ],
 "metadata": {
  "kernelspec": {
   "display_name": "Python 3",
   "language": "python",
   "name": "python3"
  },
  "language_info": {
   "codemirror_mode": {
    "name": "ipython",
    "version": 3
   },
   "file_extension": ".py",
   "mimetype": "text/x-python",
   "name": "python",
   "nbconvert_exporter": "python",
   "pygments_lexer": "ipython3",
   "version": "3.6.6"
  }
 },
 "nbformat": 4,
 "nbformat_minor": 2
}
